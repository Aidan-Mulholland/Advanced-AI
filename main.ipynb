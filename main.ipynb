{
 "cells": [
  {
   "cell_type": "markdown",
   "metadata": {},
   "source": []
  },
  {
   "cell_type": "markdown",
   "metadata": {},
   "source": [
    "# Predicting Economic Growth of Countries"
   ]
  },
  {
   "cell_type": "markdown",
   "metadata": {},
   "source": [
    "# Abstract"
   ]
  },
  {
   "cell_type": "markdown",
   "metadata": {},
   "source": [
    "Some of the code snippets taken from kaggle require the pandas adaptor for kagglehub which isn't available via conda. The following cell simply installs this"
   ]
  },
  {
   "cell_type": "code",
   "execution_count": 92,
   "metadata": {},
   "outputs": [
    {
     "name": "stdout",
     "output_type": "stream",
     "text": [
      "zsh:1: no matches found: kagglehub[pandas-datasets]\n"
     ]
    }
   ],
   "source": [
    "! pip install kagglehub[pandas-datasets]"
   ]
  },
  {
   "cell_type": "markdown",
   "metadata": {},
   "source": [
    "We first load \"Economic Indicators and Inflation\" dataset from kaggle using kagglehub and the kagglehub pandas adaptor and save it to the variable ```df```. The dataset includes spaces in some of the headers and others not, which can be problematic when trying to reference these columns using pandas. To fix this, the column names have their whitespace stripped and overwritten. You can see the data set outputted belo"
   ]
  },
  {
   "cell_type": "code",
   "execution_count": 111,
   "metadata": {},
   "outputs": [
    {
     "data": {
      "text/html": [
       "<div>\n",
       "<style scoped>\n",
       "    .dataframe tbody tr th:only-of-type {\n",
       "        vertical-align: middle;\n",
       "    }\n",
       "\n",
       "    .dataframe tbody tr th {\n",
       "        vertical-align: top;\n",
       "    }\n",
       "\n",
       "    .dataframe thead th {\n",
       "        text-align: right;\n",
       "    }\n",
       "</style>\n",
       "<table border=\"1\" class=\"dataframe\">\n",
       "  <thead>\n",
       "    <tr style=\"text-align: right;\">\n",
       "      <th></th>\n",
       "      <th>Country</th>\n",
       "      <th>Year</th>\n",
       "      <th>GDP (in billion USD)</th>\n",
       "      <th>Inflation Rate (%)</th>\n",
       "      <th>Unemployment Rate (%)</th>\n",
       "      <th>Economic Growth (%)</th>\n",
       "    </tr>\n",
       "  </thead>\n",
       "  <tbody>\n",
       "    <tr>\n",
       "      <th>0</th>\n",
       "      <td>USA</td>\n",
       "      <td>2010</td>\n",
       "      <td>15000.0</td>\n",
       "      <td>1.64</td>\n",
       "      <td>9.63</td>\n",
       "      <td>2.55</td>\n",
       "    </tr>\n",
       "    <tr>\n",
       "      <th>1</th>\n",
       "      <td>USA</td>\n",
       "      <td>2011</td>\n",
       "      <td>15500.0</td>\n",
       "      <td>3.16</td>\n",
       "      <td>8.94</td>\n",
       "      <td>1.53</td>\n",
       "    </tr>\n",
       "    <tr>\n",
       "      <th>2</th>\n",
       "      <td>USA</td>\n",
       "      <td>2012</td>\n",
       "      <td>16000.0</td>\n",
       "      <td>2.07</td>\n",
       "      <td>8.10</td>\n",
       "      <td>2.28</td>\n",
       "    </tr>\n",
       "    <tr>\n",
       "      <th>3</th>\n",
       "      <td>USA</td>\n",
       "      <td>2013</td>\n",
       "      <td>16500.0</td>\n",
       "      <td>1.50</td>\n",
       "      <td>7.70</td>\n",
       "      <td>1.84</td>\n",
       "    </tr>\n",
       "    <tr>\n",
       "      <th>4</th>\n",
       "      <td>USA</td>\n",
       "      <td>2014</td>\n",
       "      <td>17000.0</td>\n",
       "      <td>1.62</td>\n",
       "      <td>7.25</td>\n",
       "      <td>2.53</td>\n",
       "    </tr>\n",
       "    <tr>\n",
       "      <th>...</th>\n",
       "      <td>...</td>\n",
       "      <td>...</td>\n",
       "      <td>...</td>\n",
       "      <td>...</td>\n",
       "      <td>...</td>\n",
       "      <td>...</td>\n",
       "    </tr>\n",
       "    <tr>\n",
       "      <th>299</th>\n",
       "      <td>Pakistan</td>\n",
       "      <td>2021</td>\n",
       "      <td>296.0</td>\n",
       "      <td>8.90</td>\n",
       "      <td>5.00</td>\n",
       "      <td>5.70</td>\n",
       "    </tr>\n",
       "    <tr>\n",
       "      <th>300</th>\n",
       "      <td>Pakistan</td>\n",
       "      <td>2022</td>\n",
       "      <td>350.0</td>\n",
       "      <td>12.30</td>\n",
       "      <td>5.00</td>\n",
       "      <td>6.00</td>\n",
       "    </tr>\n",
       "    <tr>\n",
       "      <th>301</th>\n",
       "      <td>Pakistan</td>\n",
       "      <td>2023</td>\n",
       "      <td>400.0</td>\n",
       "      <td>20.00</td>\n",
       "      <td>5.00</td>\n",
       "      <td>4.00</td>\n",
       "    </tr>\n",
       "    <tr>\n",
       "      <th>302</th>\n",
       "      <td>Pakistan</td>\n",
       "      <td>2024</td>\n",
       "      <td>450.0</td>\n",
       "      <td>25.00</td>\n",
       "      <td>5.00</td>\n",
       "      <td>3.00</td>\n",
       "    </tr>\n",
       "    <tr>\n",
       "      <th>303</th>\n",
       "      <td>Pakistan</td>\n",
       "      <td>2025</td>\n",
       "      <td>500.0</td>\n",
       "      <td>20.00</td>\n",
       "      <td>5.00</td>\n",
       "      <td>3.20</td>\n",
       "    </tr>\n",
       "  </tbody>\n",
       "</table>\n",
       "<p>304 rows × 6 columns</p>\n",
       "</div>"
      ],
      "text/plain": [
       "      Country  Year  GDP (in billion USD)  Inflation Rate (%)  \\\n",
       "0         USA  2010               15000.0                1.64   \n",
       "1         USA  2011               15500.0                3.16   \n",
       "2         USA  2012               16000.0                2.07   \n",
       "3         USA  2013               16500.0                1.50   \n",
       "4         USA  2014               17000.0                1.62   \n",
       "..        ...   ...                   ...                 ...   \n",
       "299  Pakistan  2021                 296.0                8.90   \n",
       "300  Pakistan  2022                 350.0               12.30   \n",
       "301  Pakistan  2023                 400.0               20.00   \n",
       "302  Pakistan  2024                 450.0               25.00   \n",
       "303  Pakistan  2025                 500.0               20.00   \n",
       "\n",
       "     Unemployment Rate (%)  Economic Growth (%)  \n",
       "0                     9.63                 2.55  \n",
       "1                     8.94                 1.53  \n",
       "2                     8.10                 2.28  \n",
       "3                     7.70                 1.84  \n",
       "4                     7.25                 2.53  \n",
       "..                     ...                  ...  \n",
       "299                   5.00                 5.70  \n",
       "300                   5.00                 6.00  \n",
       "301                   5.00                 4.00  \n",
       "302                   5.00                 3.00  \n",
       "303                   5.00                 3.20  \n",
       "\n",
       "[304 rows x 6 columns]"
      ]
     },
     "execution_count": 111,
     "metadata": {},
     "output_type": "execute_result"
    }
   ],
   "source": [
    "import kagglehub\n",
    "from kagglehub import KaggleDatasetAdapter\n",
    "import torch\n",
    "from sklearn.model_selection import train_test_split\n",
    "from sklearn.preprocessing import LabelEncoder, normalize\n",
    "import matplotlib.pyplot as plt\n",
    "\n",
    "# dataset and code as from [1]\n",
    "file_path = \"Economic Indicators And Inflation (1) (1).csv\"\n",
    "df = kagglehub.load_dataset(\n",
    "  KaggleDatasetAdapter.PANDAS,\n",
    "  \"adilshamim8/economic-indicators-and-inflation\",\n",
    "  file_path,\n",
    ")\n",
    "df = df.rename(columns=lambda x: x.strip())\n",
    "df\n",
    "# End of source [1]"
   ]
  },
  {
   "cell_type": "markdown",
   "metadata": {},
   "source": [
    "encode data"
   ]
  },
  {
   "cell_type": "code",
   "execution_count": 95,
   "metadata": {},
   "outputs": [
    {
     "data": {
      "text/html": [
       "<div>\n",
       "<style scoped>\n",
       "    .dataframe tbody tr th:only-of-type {\n",
       "        vertical-align: middle;\n",
       "    }\n",
       "\n",
       "    .dataframe tbody tr th {\n",
       "        vertical-align: top;\n",
       "    }\n",
       "\n",
       "    .dataframe thead th {\n",
       "        text-align: right;\n",
       "    }\n",
       "</style>\n",
       "<table border=\"1\" class=\"dataframe\">\n",
       "  <thead>\n",
       "    <tr style=\"text-align: right;\">\n",
       "      <th></th>\n",
       "      <th>Country</th>\n",
       "      <th>Year</th>\n",
       "      <th>GDP (in billion USD)</th>\n",
       "      <th>Inflation Rate (%)</th>\n",
       "      <th>Unemployment Rate (%)</th>\n",
       "      <th>Economic Growth (%)</th>\n",
       "    </tr>\n",
       "  </thead>\n",
       "  <tbody>\n",
       "    <tr>\n",
       "      <th>0</th>\n",
       "      <td>18</td>\n",
       "      <td>2010</td>\n",
       "      <td>15000.0</td>\n",
       "      <td>1.64</td>\n",
       "      <td>9.63</td>\n",
       "      <td>2.55</td>\n",
       "    </tr>\n",
       "    <tr>\n",
       "      <th>1</th>\n",
       "      <td>18</td>\n",
       "      <td>2011</td>\n",
       "      <td>15500.0</td>\n",
       "      <td>3.16</td>\n",
       "      <td>8.94</td>\n",
       "      <td>1.53</td>\n",
       "    </tr>\n",
       "    <tr>\n",
       "      <th>2</th>\n",
       "      <td>18</td>\n",
       "      <td>2012</td>\n",
       "      <td>16000.0</td>\n",
       "      <td>2.07</td>\n",
       "      <td>8.10</td>\n",
       "      <td>2.28</td>\n",
       "    </tr>\n",
       "    <tr>\n",
       "      <th>3</th>\n",
       "      <td>18</td>\n",
       "      <td>2013</td>\n",
       "      <td>16500.0</td>\n",
       "      <td>1.50</td>\n",
       "      <td>7.70</td>\n",
       "      <td>1.84</td>\n",
       "    </tr>\n",
       "    <tr>\n",
       "      <th>4</th>\n",
       "      <td>18</td>\n",
       "      <td>2014</td>\n",
       "      <td>17000.0</td>\n",
       "      <td>1.62</td>\n",
       "      <td>7.25</td>\n",
       "      <td>2.53</td>\n",
       "    </tr>\n",
       "    <tr>\n",
       "      <th>...</th>\n",
       "      <td>...</td>\n",
       "      <td>...</td>\n",
       "      <td>...</td>\n",
       "      <td>...</td>\n",
       "      <td>...</td>\n",
       "      <td>...</td>\n",
       "    </tr>\n",
       "    <tr>\n",
       "      <th>299</th>\n",
       "      <td>12</td>\n",
       "      <td>2021</td>\n",
       "      <td>296.0</td>\n",
       "      <td>8.90</td>\n",
       "      <td>5.00</td>\n",
       "      <td>5.70</td>\n",
       "    </tr>\n",
       "    <tr>\n",
       "      <th>300</th>\n",
       "      <td>12</td>\n",
       "      <td>2022</td>\n",
       "      <td>350.0</td>\n",
       "      <td>12.30</td>\n",
       "      <td>5.00</td>\n",
       "      <td>6.00</td>\n",
       "    </tr>\n",
       "    <tr>\n",
       "      <th>301</th>\n",
       "      <td>12</td>\n",
       "      <td>2023</td>\n",
       "      <td>400.0</td>\n",
       "      <td>20.00</td>\n",
       "      <td>5.00</td>\n",
       "      <td>4.00</td>\n",
       "    </tr>\n",
       "    <tr>\n",
       "      <th>302</th>\n",
       "      <td>12</td>\n",
       "      <td>2024</td>\n",
       "      <td>450.0</td>\n",
       "      <td>25.00</td>\n",
       "      <td>5.00</td>\n",
       "      <td>3.00</td>\n",
       "    </tr>\n",
       "    <tr>\n",
       "      <th>303</th>\n",
       "      <td>12</td>\n",
       "      <td>2025</td>\n",
       "      <td>500.0</td>\n",
       "      <td>20.00</td>\n",
       "      <td>5.00</td>\n",
       "      <td>3.20</td>\n",
       "    </tr>\n",
       "  </tbody>\n",
       "</table>\n",
       "<p>304 rows × 6 columns</p>\n",
       "</div>"
      ],
      "text/plain": [
       "     Country  Year  GDP (in billion USD)  Inflation Rate (%)  \\\n",
       "0         18  2010               15000.0                1.64   \n",
       "1         18  2011               15500.0                3.16   \n",
       "2         18  2012               16000.0                2.07   \n",
       "3         18  2013               16500.0                1.50   \n",
       "4         18  2014               17000.0                1.62   \n",
       "..       ...   ...                   ...                 ...   \n",
       "299       12  2021                 296.0                8.90   \n",
       "300       12  2022                 350.0               12.30   \n",
       "301       12  2023                 400.0               20.00   \n",
       "302       12  2024                 450.0               25.00   \n",
       "303       12  2025                 500.0               20.00   \n",
       "\n",
       "     Unemployment Rate (%)  Economic Growth (%)  \n",
       "0                     9.63                 2.55  \n",
       "1                     8.94                 1.53  \n",
       "2                     8.10                 2.28  \n",
       "3                     7.70                 1.84  \n",
       "4                     7.25                 2.53  \n",
       "..                     ...                  ...  \n",
       "299                   5.00                 5.70  \n",
       "300                   5.00                 6.00  \n",
       "301                   5.00                 4.00  \n",
       "302                   5.00                 3.00  \n",
       "303                   5.00                 3.20  \n",
       "\n",
       "[304 rows x 6 columns]"
      ]
     },
     "execution_count": 95,
     "metadata": {},
     "output_type": "execute_result"
    }
   ],
   "source": [
    "#Encode data\n",
    "le = LabelEncoder()\n",
    "encoded_df = df.copy()\n",
    "le.fit(df[\"Country\"])\n",
    "encoded_df[\"Country\"] = le.transform(df[\"Country\"])\n",
    "le_name_mapping = dict(zip(le.classes_, le.transform(le.classes_)))\n",
    "encoded_df"
   ]
  },
  {
   "cell_type": "code",
   "execution_count": 96,
   "metadata": {},
   "outputs": [
    {
     "data": {
      "text/plain": [
       "array([[1.18936824e-03, 1.32812787e-01, 9.91140204e-01, 1.08364662e-04,\n",
       "        6.36312011e-04, 1.68493835e-04],\n",
       "       [1.15163705e-03, 1.28663450e-01, 9.91687457e-01, 2.02176282e-04,\n",
       "        5.71979733e-04, 9.78891490e-05],\n",
       "       [1.11620842e-03, 1.24767296e-01, 9.92185258e-01, 1.28363968e-04,\n",
       "        5.02293787e-04, 1.41386399e-04],\n",
       "       ...,\n",
       "       [5.81872368e-03, 9.80939835e-01, 1.93957456e-01, 9.69787281e-03,\n",
       "        2.42446820e-03, 1.93957456e-03],\n",
       "       [5.78699529e-03, 9.76073205e-01, 2.17012323e-01, 1.20562402e-02,\n",
       "        2.41124804e-03, 1.44674882e-03],\n",
       "       [5.75276338e-03, 9.70778821e-01, 2.39698474e-01, 9.58793897e-03,\n",
       "        2.39698474e-03, 1.53407024e-03]], shape=(304, 6))"
      ]
     },
     "execution_count": 96,
     "metadata": {},
     "output_type": "execute_result"
    }
   ],
   "source": [
    "normalized_df = normalize(encoded_df)\n",
    "normalized_df"
   ]
  },
  {
   "cell_type": "markdown",
   "metadata": {},
   "source": [
    "split data"
   ]
  },
  {
   "cell_type": "code",
   "execution_count": 97,
   "metadata": {},
   "outputs": [],
   "source": [
    "features = normalized_df[:, :-1]\n",
    "labels = normalized_df[:, [-1]]\n",
    "x_train, x_test, y_train, y_test = train_test_split(features, labels, test_size=0.2)\n",
    "\n",
    "x_train = torch.tensor(x_train, dtype=torch.float32)\n",
    "x_test = torch.tensor(x_test, dtype=torch.float32)\n",
    "y_train = torch.tensor(y_train, dtype=torch.float32)\n",
    "y_test = torch.tensor(y_test, dtype=torch.float32)"
   ]
  },
  {
   "cell_type": "markdown",
   "metadata": {},
   "source": [
    "apply linear regression"
   ]
  },
  {
   "cell_type": "code",
   "execution_count": null,
   "metadata": {},
   "outputs": [
    {
     "name": "stdout",
     "output_type": "stream",
     "text": [
      "epoch = 0, loss = 154.88336181640625\n",
      "epoch = 1, loss = 1.7185357809066772\n",
      "epoch = 2, loss = 0.10069917142391205\n",
      "epoch = 3, loss = 0.07293634861707687\n",
      "epoch = 4, loss = 0.06334801018238068\n",
      "epoch = 5, loss = 0.05524836480617523\n",
      "epoch = 6, loss = 0.048280905932188034\n",
      "epoch = 7, loss = 0.04228571057319641\n",
      "epoch = 8, loss = 0.03712673857808113\n",
      "epoch = 9, loss = 0.03268700838088989\n",
      "epoch = 10, loss = 0.02886589616537094\n",
      "epoch = 11, loss = 0.025576865300536156\n",
      "epoch = 12, loss = 0.022745495662093163\n",
      "epoch = 13, loss = 0.02030775137245655\n",
      "epoch = 14, loss = 0.0182085782289505\n",
      "epoch = 15, loss = 0.016400618478655815\n",
      "epoch = 16, loss = 0.014843137934803963\n",
      "epoch = 17, loss = 0.013501093722879887\n",
      "epoch = 18, loss = 0.012344365008175373\n",
      "epoch = 19, loss = 0.011347029358148575\n",
      "Done training!\n"
     ]
    },
    {
     "name": "stderr",
     "output_type": "stream",
     "text": [
      "/home/aidan/miniconda3/envs/cwEnv/lib/python3.13/site-packages/torch/nn/_reduction.py:51: UserWarning: size_average and reduce args will be deprecated, please use reduction='sum' instead.\n",
      "  warnings.warn(warning.format(ret))\n"
     ]
    }
   ],
   "source": [
    "#Code from [2]\n",
    "class LinearRegressionModel(torch.nn.Module):\n",
    "\tdef __init__(self, features_count):\n",
    "\t\tsuper(LinearRegressionModel, self).__init__()\n",
    "\t\tself.linear = torch.nn.Linear(in_features=features_count, out_features=1)\n",
    "\n",
    "\tdef forward(self, x):\n",
    "\t\ty_pred = self.linear(x)\n",
    "\t\treturn y_pred\n",
    "\n",
    "reg = LinearRegressionModel(x_train.shape[1])\n",
    "criterion = torch.nn.MSELoss(size_average = False)\n",
    "optimizer = torch.optim.SGD(reg.parameters(), lr = 0.001, weight_decay=1e-5)\n",
    "losses = []\n",
    "epochs = 20\n",
    "for epoch in range(epochs):\n",
    "\ty_pred = reg(x_train)\n",
    "\tloss = criterion(y_pred, y_train)\n",
    "\tlosses.append(loss.item())\n",
    "\toptimizer.zero_grad()\n",
    "\tloss.backward()\n",
    "\toptimizer.step()   \n",
    "\tprint(f\"epoch = {epoch}, loss = {loss}\")\n",
    "print(\"Done training!\")\n",
    "#End of source [2]\n"
   ]
  },
  {
   "cell_type": "code",
   "execution_count": 99,
   "metadata": {},
   "outputs": [
    {
     "data": {
      "image/png": "[encoded data removed]",
      "text/plain": [
       "<Figure size 640x480 with 1 Axes>"
      ]
     },
     "metadata": {},
     "output_type": "display_data"
    }
   ],
   "source": [
    "plt.plot(losses)\n",
    "plt.xlabel(\"no. of iterations\")\n",
    "plt.ylabel(\"total loss\")\n",
    "plt.show()"
   ]
  },
  {
   "cell_type": "code",
   "execution_count": null,
   "metadata": {},
   "outputs": [
    {
     "data": {
      "image/png": "[encoded data removed]",
      "text/plain": [
       "<Figure size 640x480 with 1 Axes>"
      ]
     },
     "metadata": {},
     "output_type": "display_data"
    }
   ],
   "source": [
    "# Code from [3]\n",
    "# Clear figure\n",
    "plt.clf()\n",
    "\n",
    "# Get predictions\n",
    "predicted = reg(x_test).data.numpy()\n",
    "\n",
    "# Plot true data\n",
    "plt.plot(y_test, 'go', label='True data', alpha=0.5)\n",
    "\n",
    "# Plot predictions\n",
    "plt.plot(predicted, '--', label='Predictions', alpha=0.5)\n",
    "\n",
    "# Legend and plot\n",
    "plt.legend(loc='best')\n",
    "plt.show()\n",
    "# End of [3]"
   ]
  },
  {
   "cell_type": "markdown",
   "metadata": {},
   "source": [
    "# References\n",
    "1. https://www.kaggle.com/datasets/adilshamim8/economic-indicators-and-inflation\n",
    "2. https://www.geeksforgeeks.org/linear-regression-using-pytorch/\n",
    "3. https://www.deeplearningwizard.com/deep_learning/practical_pytorch/pytorch_linear_regression/#building-model"
   ]
  }
 ],
 "metadata": {
  "kernelspec": {
   "display_name": "cwEnv",
   "language": "python",
   "name": "python3"
  },
  "language_info": {
   "codemirror_mode": {
    "name": "ipython",
    "version": 3
   },
   "file_extension": ".py",
   "mimetype": "text/x-python",
   "name": "python",
   "nbconvert_exporter": "python",
   "pygments_lexer": "ipython3",
   "version": "3.13.2"
  }
 },
 "nbformat": 4,
 "nbformat_minor": 2
}
